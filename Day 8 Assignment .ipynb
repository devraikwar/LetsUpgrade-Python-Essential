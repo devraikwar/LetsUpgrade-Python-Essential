{
 "cells": [
  {
   "cell_type": "markdown",
   "metadata": {},
   "source": [
    "Question 1\n",
    "\n",
    "Write a decorator function for your taking input for you any kind of function you want to build,\n",
    "For example - \n",
    "\n",
    "You make a fibonacci series function,in which your input range is been defined by\n",
    "the decorator program input."
   ]
  },
  {
   "cell_type": "code",
   "execution_count": 5,
   "metadata": {},
   "outputs": [
    {
     "name": "stdout",
     "output_type": "stream",
     "text": [
      "Please enter the range of series \n",
      "Enter your initial number:1\n",
      "Enter your last number of series :100\n",
      "The series of between the numbers is\n",
      "1 3 5 7 9 11 13 15 17 19 21 23 25 27 29 31 33 35 37 39 41 43 45 47 49 51 53 55 57 59 61 63 65 67 69 71 73 75 77 79 81 83 85 87 89 91 93 95 97 99\n"
     ]
    }
   ],
   "source": [
    "\n",
    "def function1(num):\n",
    "    def function2():\n",
    "        print(\"Please enter the range of series \")\n",
    "        a=int(input(\"Enter your initial number:\"))\n",
    "        b=int(input(\"Enter your last number of series :\"))\n",
    "        num(a,b)\n",
    "    return function2\n",
    "@function1\n",
    "def num(a,b):\n",
    "    print('The series of between the numbers is') \n",
    "    print(*[i for i in range(a,b) if i%2!=0])\n",
    "num()"
   ]
  },
  {
   "cell_type": "code",
   "execution_count": null,
   "metadata": {},
   "outputs": [],
   "source": []
  },
  {
   "cell_type": "markdown",
   "metadata": {},
   "source": [
    "Question 2 \n",
    "\n",
    "For this challenge you need to develop a Python program to open a file in read only mode and try\n",
    "writing something to it and handle the subsequent errors using Exception Handling"
   ]
  },
  {
   "cell_type": "code",
   "execution_count": 19,
   "metadata": {},
   "outputs": [
    {
     "name": "stdout",
     "output_type": "stream",
     "text": [
      "Warning:Do not update in read mode\n",
      "ThanksThanksThanksThanksThanksThanksThanksThanksThanks\n"
     ]
    }
   ],
   "source": [
    "a=open(\"file.txt\",\"r\")\n",
    "z=a.read()\n",
    "z\n",
    "try:\n",
    "    a=open(\"file.txt\",\"r\")\n",
    "    a.write(\"Thanks\")\n",
    "except:\n",
    "    print(\"Warning:Do not update in read mode\")\n",
    "finally:\n",
    "    a.close()\n",
    "    \n",
    "try:\n",
    "    a=open(\"file.txt\",\"a+\")\n",
    "    a.write(\"Thanks\")\n",
    "except:\n",
    "    print(\"Warning:\")\n",
    "finally:\n",
    "    a.close()\n",
    "y=open(\"file.txt\",\"r\")\n",
    "print(y.read())"
   ]
  },
  {
   "cell_type": "code",
   "execution_count": null,
   "metadata": {},
   "outputs": [],
   "source": []
  },
  {
   "cell_type": "code",
   "execution_count": null,
   "metadata": {},
   "outputs": [],
   "source": []
  }
 ],
 "metadata": {
  "kernelspec": {
   "display_name": "Python 3",
   "language": "python",
   "name": "python3"
  },
  "language_info": {
   "codemirror_mode": {
    "name": "ipython",
    "version": 3
   },
   "file_extension": ".py",
   "mimetype": "text/x-python",
   "name": "python",
   "nbconvert_exporter": "python",
   "pygments_lexer": "ipython3",
   "version": "3.8.3"
  }
 },
 "nbformat": 4,
 "nbformat_minor": 4
}
