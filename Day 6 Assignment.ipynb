{
 "cells": [
  {
   "cell_type": "code",
   "execution_count": 1,
   "metadata": {},
   "outputs": [
    {
     "name": "stdout",
     "output_type": "stream",
     "text": [
      "Hello!!! Mr Dev Raikwar  \n",
      "Your Current Balance is  = 107640\n",
      "Please Enter amount to Deposite: 60\n",
      "\n",
      " Amount Deposited: 60.0\n",
      "\n",
      " Your Current Balance is = 107700.0\n",
      "Please Enter amount to Withdraw: 700\n",
      "\n",
      " You Withdraw: 700.0\n",
      "\n",
      " Your Current Balance is = 107000.0\n"
     ]
    }
   ],
   "source": [
    "\"\"\"  Question 1. \n",
    "\n",
    "     For this challenge,create a bank account class that has two attributes\n",
    "     ownerName and Balance And two methods deposit and withdraw As an added requirement,\n",
    "     withdrawals may not exceed the available balance. \n",
    "     Instantiate your class,make several deposits and withdrawals,and test to make sure the account cant be overdrawn \"\"\"\n",
    "\n",
    "class BankAccount: \n",
    "    ownerName=\"Mr Dev Raikwar\"\n",
    "    def __init__(self): \n",
    "        self.balance=107640\n",
    "        print(\"Hello!!! \"+self.ownerName+ \"  \") \n",
    "        print(\"Your Current Balance is  = \"+ str(self.balance))\n",
    "  \n",
    "    def deposit(self): \n",
    "        amount=float(input(\"Please Enter amount to Deposite: \")) \n",
    "        self.balance += amount \n",
    "        print(\"\\n Amount Deposited:\",amount) \n",
    "          \n",
    "        print(\"\\n Your Current Balance is =\",self.balance) \n",
    "  \n",
    "    def withdraw(self): \n",
    "        amount = float(input(\"Please Enter amount to Withdraw: \")) \n",
    "        if self.balance>=amount: \n",
    "            self.balance-=amount \n",
    "            print(\"\\n You Withdraw:\", amount) \n",
    "        else: \n",
    "            print(\"\\n Insufficient Fund \") \n",
    "  \n",
    "    def display(self): \n",
    "        print(\"\\n Your Current Balance is =\",self.balance) \n",
    "  \n",
    "s = BankAccount() \n",
    "s.deposit() \n",
    "s.withdraw() \n",
    "s.display()"
   ]
  },
  {
   "cell_type": "code",
   "execution_count": 3,
   "metadata": {},
   "outputs": [
    {
     "name": "stdout",
     "output_type": "stream",
     "text": [
      "Enter the values:\n",
      "Enter the Radius of cone: 20\n",
      "Enter the Height of cone: 30\n",
      "The volume of cone is: 12566.37\n",
      "The area of cone is: 2265.43\n"
     ]
    }
   ],
   "source": [
    "\"\"\"\"  Question 2  \n",
    "      For this challenge,create a cone class that has two attributes: R=Radius and h=Height And two methods: \n",
    "      Volume = Π r2 = (h/3) and Surface area : base : Π r2 , side : Π r √(r2 + h2) \n",
    "      Make only one class with functions,as in where required import Math.  \"\"\"\n",
    "\n",
    "\n",
    "import math\n",
    "\n",
    "class Cone():\n",
    "  \n",
    "  radius = 0\n",
    "  height = 0\n",
    "  \n",
    "  def __init__(self,radius,height):\n",
    "    self.radius = radius\n",
    "    self.height = height\n",
    "\n",
    "  def volume(self):\n",
    "    vol = math.pi * self.radius ** 2 * (self.height / 3)\n",
    "    print(\"The volume of cone is: \"+str(round(vol,2)))\n",
    "\n",
    "  def surfaceArea(self):\n",
    "    slant_height = math.sqrt(self.radius ** 2 + self.height ** 2)\n",
    "    area = math.pi * self.radius * slant_height \n",
    "    print(\"The area of cone is: \"+str(round(area,2)))\n",
    "\n",
    "print(\"Enter the values:\")\n",
    "radius = float(input(\"Enter the Radius of cone: \"))\n",
    "height = float(input(\"Enter the Height of cone: \"))\n",
    "\n",
    "obj = Cone(radius,height)\n",
    "obj.volume()\n",
    "obj.surfaceArea()\n"
   ]
  },
  {
   "cell_type": "code",
   "execution_count": null,
   "metadata": {},
   "outputs": [],
   "source": []
  }
 ],
 "metadata": {
  "kernelspec": {
   "display_name": "Python 3",
   "language": "python",
   "name": "python3"
  },
  "language_info": {
   "codemirror_mode": {
    "name": "ipython",
    "version": 3
   },
   "file_extension": ".py",
   "mimetype": "text/x-python",
   "name": "python",
   "nbconvert_exporter": "python",
   "pygments_lexer": "ipython3",
   "version": "3.8.3"
  }
 },
 "nbformat": 4,
 "nbformat_minor": 4
}
