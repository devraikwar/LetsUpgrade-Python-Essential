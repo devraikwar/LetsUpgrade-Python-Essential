{
 "cells": [
  {
   "cell_type": "markdown",
   "metadata": {},
   "source": [
    "# Question 1.\n",
    "\n",
    "# Write a python Function for finding is a given number prime or not and do Unit Testing on it using."
   ]
  },
  {
   "cell_type": "code",
   "execution_count": 1,
   "metadata": {},
   "outputs": [
    {
     "name": "stdout",
     "output_type": "stream",
     "text": [
      "Requirement already satisfied: pylint in c:\\users\\selfie\\anaconda3\\lib\\site-packages (2.5.3)\n",
      "Requirement already satisfied: toml>=0.7.1 in c:\\users\\selfie\\anaconda3\\lib\\site-packages (from pylint) (0.10.1)\n",
      "Requirement already satisfied: isort<5,>=4.2.5 in c:\\users\\selfie\\anaconda3\\lib\\site-packages (from pylint) (4.3.21)\n",
      "Requirement already satisfied: mccabe<0.7,>=0.6 in c:\\users\\selfie\\anaconda3\\lib\\site-packages (from pylint) (0.6.1)\n",
      "Requirement already satisfied: astroid<=2.5,>=2.4.0 in c:\\users\\selfie\\anaconda3\\lib\\site-packages (from pylint) (2.4.2)\n",
      "Requirement already satisfied: colorama; sys_platform == \"win32\" in c:\\users\\selfie\\anaconda3\\lib\\site-packages (from pylint) (0.4.3)\n",
      "Requirement already satisfied: wrapt~=1.11 in c:\\users\\selfie\\anaconda3\\lib\\site-packages (from astroid<=2.5,>=2.4.0->pylint) (1.11.2)\n",
      "Requirement already satisfied: six~=1.12 in c:\\users\\selfie\\anaconda3\\lib\\site-packages (from astroid<=2.5,>=2.4.0->pylint) (1.15.0)\n",
      "Requirement already satisfied: lazy-object-proxy==1.4.* in c:\\users\\selfie\\anaconda3\\lib\\site-packages (from astroid<=2.5,>=2.4.0->pylint) (1.4.3)\n"
     ]
    }
   ],
   "source": [
    "! pip install pylint"
   ]
  },
  {
   "cell_type": "code",
   "execution_count": 2,
   "metadata": {},
   "outputs": [
    {
     "name": "stdout",
     "output_type": "stream",
     "text": [
      "Requirement already satisfied: unittest2 in c:\\users\\selfie\\anaconda3\\lib\\site-packages (1.1.0)\n",
      "Requirement already satisfied: six>=1.4 in c:\\users\\selfie\\anaconda3\\lib\\site-packages (from unittest2) (1.15.0)\n",
      "Requirement already satisfied: argparse in c:\\users\\selfie\\anaconda3\\lib\\site-packages (from unittest2) (1.4.0)\n",
      "Requirement already satisfied: traceback2 in c:\\users\\selfie\\anaconda3\\lib\\site-packages (from unittest2) (1.4.0)\n",
      "Requirement already satisfied: linecache2 in c:\\users\\selfie\\anaconda3\\lib\\site-packages (from traceback2->unittest2) (1.0.0)\n"
     ]
    }
   ],
   "source": [
    "! pip install unittest2"
   ]
  },
  {
   "cell_type": "code",
   "execution_count": 3,
   "metadata": {},
   "outputs": [
    {
     "name": "stdout",
     "output_type": "stream",
     "text": [
      "Overwriting is_prime.py\n"
     ]
    }
   ],
   "source": [
    "%%writefile is_prime.py\n",
    "'''\n",
    "This is a module to check weather the given number is prime\n",
    "'''\n",
    "def prime(num):\n",
    "    '''\n",
    "    Method to check the number is prime or not\n",
    "    '''\n",
    "    for i in range(2, num):\n",
    "        if (num % i) == 0:\n",
    "            print(\"It it not a prime number\")\n",
    "            break\n",
    "    else:\n",
    "        print(num, \"Is a prime number\")\n",
    "n = int(input(\"enter the number :\"))\n",
    "prime(n)"
   ]
  },
  {
   "cell_type": "code",
   "execution_count": 4,
   "metadata": {},
   "outputs": [
    {
     "name": "stdout",
     "output_type": "stream",
     "text": [
      "enter the number :10\n",
      "It it not a prime number\n",
      "13 Is a prime number\n"
     ]
    }
   ],
   "source": [
    "import is_prime\n",
    "is_prime.prime(13)"
   ]
  },
  {
   "cell_type": "code",
   "execution_count": 5,
   "metadata": {},
   "outputs": [
    {
     "name": "stdout",
     "output_type": "stream",
     "text": [
      "\n",
      "--------------------------------------------------------------------\n",
      "\n",
      "Your code has been rated at 10.00/10 (previous run: 10.00/10, +0.00)\n",
      "\n",
      "\n",
      "\n"
     ]
    }
   ],
   "source": [
    "! pylint \"is_prime.py\""
   ]
  },
  {
   "cell_type": "code",
   "execution_count": 6,
   "metadata": {},
   "outputs": [
    {
     "name": "stdout",
     "output_type": "stream",
     "text": [
      "Overwriting test.py\n"
     ]
    }
   ],
   "source": [
    "%%writefile test.py\n",
    "'''\n",
    " test file to check out the py file with unittest\n",
    "'''\n",
    "import unittest2\n",
    "import is_prime\n",
    "\n",
    "class testPrimeNumber(unittest.TestCase):\n",
    "    def testOne(self):\n",
    "        result = is_prime.prime(12)\n",
    "        self.assertEqual(result,\"13 Is a prime number\") \n",
    "        \n",
    "if __name__ == \"__main__\":\n",
    "    unittest.main()"
   ]
  },
  {
   "cell_type": "markdown",
   "metadata": {},
   "source": [
    "# Question 2\n",
    "\n",
    "# Make a small generator program for returning armstrong numbers in between 1-1000 in a generator object.\n"
   ]
  },
  {
   "cell_type": "code",
   "execution_count": null,
   "metadata": {},
   "outputs": [],
   "source": [
    "rangeList = list(range(1, 1001))\n",
    "\n",
    "\n",
    "def generateArmstrong(lst):\n",
    "    for i in lst:\n",
    "        sum = 0\n",
    "        j = i\n",
    "        count = 0\n",
    "        while(j > 0):\n",
    "            j = j//10\n",
    "            count += 1\n",
    "        j = i\n",
    "        while(j > 0):\n",
    "            digit = j % 10\n",
    "            j = j//10\n",
    "            sum = sum+(digit**count)\n",
    "        if sum == i:\n",
    "            yield i\n",
    "\n",
    "\n",
    "generateObj = generateArmstrong(rangeList)\n",
    "print(list(generateObj))"
   ]
  },
  {
   "cell_type": "code",
   "execution_count": null,
   "metadata": {},
   "outputs": [],
   "source": []
  },
  {
   "cell_type": "code",
   "execution_count": null,
   "metadata": {},
   "outputs": [],
   "source": []
  }
 ],
 "metadata": {
  "kernelspec": {
   "display_name": "Python 3",
   "language": "python",
   "name": "python3"
  },
  "language_info": {
   "codemirror_mode": {
    "name": "ipython",
    "version": 3
   },
   "file_extension": ".py",
   "mimetype": "text/x-python",
   "name": "python",
   "nbconvert_exporter": "python",
   "pygments_lexer": "ipython3",
   "version": "3.8.3"
  }
 },
 "nbformat": 4,
 "nbformat_minor": 4
}
